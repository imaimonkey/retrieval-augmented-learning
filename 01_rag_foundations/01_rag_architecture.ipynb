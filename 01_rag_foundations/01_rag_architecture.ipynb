{
 "cells": [
  {
   "cell_type": "markdown",
   "id": "ef25d4d9",
   "metadata": {},
   "source": [
    "## RAG (Retrieval-Augmented Generation) 구조 학습\n",
    "\n",
    "이 노트북에서는 Retrieval-Augmented Generation(RAG)의 전체 구조를 구성하고, 각 구성 요소의 역할과 흐름을 실습을 통해 이해한다.\n",
    "\n",
    "RAG는 단순한 언어 생성이 아닌, **외부 문서를 참조하여 신뢰 가능한 응답을 생성**하는 구조이다.  \n",
    "이를 위해 다음과 같은 구성 요소가 결합된다:\n",
    "\n",
    "### 핵심 구성 흐름\n",
    "\n",
    "1. **문서 로딩 및 분할**  \n",
    "   - 문서를 로딩하고 일정 단위로 나눔 (예: 문장, 단락 등)  \n",
    "   - 도구: `TextLoader`, `TextSplitter`\n",
    "\n",
    "2. **문서 임베딩 및 벡터 저장소 구성**  \n",
    "   - 각 문서를 임베딩하여 벡터화하고 검색 가능한 벡터 인덱스로 저장  \n",
    "   - 도구: `HuggingFaceEmbeddings`, `FAISS`\n",
    "\n",
    "3. **질의 임베딩 및 유사 문서 검색**  \n",
    "   - 사용자 질의를 벡터로 변환하고, 벡터 공간 상에서 유사 문서를 검색  \n",
    "   - 도구: `Retriever`, cosine similarity 기반\n",
    "\n",
    "4. **검색 문서를 기반으로 LLM 응답 생성**  \n",
    "   - 선택된 문서를 context로 포함한 prompt를 구성하여 LLM이 조건부 응답 생성  \n",
    "   - 도구: `RetrievalQA`, LLM 래퍼(Gemini API 기반)\n",
    "\n",
    "### 학습 목표\n",
    "\n",
    "- 전체 RAG 파이프라인의 구조와 동작 흐름 이해\n",
    "- 각 구성 요소가 어떻게 연결되어 문서 기반 응답이 생성되는지 확인\n",
    "- 질의 → 검색 → 응답 생성 과정의 수치적/구조적 분석 기반 확보\n",
    "\n",
    "이 구조를 이해하는 것은 이후 실험(검색 품질, 분할 전략, agent 확장 등)의 기반이 된다.\n"
   ]
  },
  {
   "cell_type": "code",
   "execution_count": 2,
   "id": "a57222af",
   "metadata": {},
   "outputs": [
    {
     "data": {
      "image/png": "[encoded data removed]",
      "text/plain": [
       "<Figure size 640x480 with 1 Axes>"
      ]
     },
     "metadata": {},
     "output_type": "display_data"
    },
    {
     "name": "stdout",
     "output_type": "stream",
     "text": [
      "문서별 쿼리 유사도: [0.97780241 0.99990619 0.77216236]\n"
     ]
    },
    {
     "name": "stderr",
     "output_type": "stream",
     "text": [
      "c:\\Users\\Valentino\\.pyenv\\pyenv-win\\versions\\3.11.9\\Lib\\site-packages\\pydantic\\_internal\\_generate_schema.py:502: UserWarning: <built-in function any> is not a Python type (it may be an instance of an object), Pydantic will allow any object with no validation since we cannot even enforce that the input is an instance of the given type. To get rid of this error wrap the type with `pydantic.SkipValidation`.\n",
      "  warn(\n",
      "C:\\Users\\Valentino\\AppData\\Local\\Temp\\ipykernel_28936\\2219088098.py:100: LangChainDeprecationWarning: The method `Chain.run` was deprecated in langchain 0.1.0 and will be removed in 1.0. Use :meth:`~invoke` instead.\n",
      "  response = qa_chain.run(\"이 문서에서 RAG란?\")\n"
     ]
    },
    {
     "name": "stdout",
     "output_type": "stream",
     "text": [
      "이 문서에서 RAG는 LLM 성능을 보완하는 기술이며, 할루시네이션을 커버하고 도메인 지식을 주입하는 등의 면에서 유용하다고 설명하고 있습니다.\n"
     ]
    }
   ],
   "source": [
    "# 1. 기본 설정 및 시각화\n",
    "import numpy as np\n",
    "import matplotlib.pyplot as plt\n",
    "from sklearn.metrics.pairwise import cosine_similarity\n",
    "import matplotlib\n",
    "\n",
    "matplotlib.rcParams[\"font.family\"] = \"Malgun Gothic\"\n",
    "matplotlib.rcParams[\"axes.unicode_minus\"] = False\n",
    "\n",
    "doc_vectors = np.array([[1.0, 0.5], [0.9, 0.7], [0.2, 0.95]])\n",
    "query_vector = np.array([[1.0, 0.8]])\n",
    "sims = cosine_similarity(query_vector, doc_vectors)[0]\n",
    "\n",
    "fig, ax = plt.subplots()\n",
    "colors = [\"r\", \"g\", \"b\"]\n",
    "for i, vec in enumerate(doc_vectors):\n",
    "    ax.quiver(\n",
    "        0,\n",
    "        0,\n",
    "        vec[0],\n",
    "        vec[1],\n",
    "        angles=\"xy\",\n",
    "        scale_units=\"xy\",\n",
    "        scale=1,\n",
    "        color=colors[i],\n",
    "        label=f\"doc{i+1}\",\n",
    "    )\n",
    "ax.quiver(\n",
    "    0,\n",
    "    0,\n",
    "    query_vector[0][0],\n",
    "    query_vector[0][1],\n",
    "    angles=\"xy\",\n",
    "    scale_units=\"xy\",\n",
    "    scale=1,\n",
    "    color=\"pink\",\n",
    "    label=\"query\",\n",
    ")\n",
    "ax.set_xlim(0, 1.2)\n",
    "ax.set_ylim(0, 1.2)\n",
    "ax.set_aspect(\"equal\")\n",
    "ax.grid()\n",
    "ax.legend()\n",
    "plt.title(\"문서 vs 질의 벡터 (cosine similarity)\")\n",
    "plt.show()\n",
    "\n",
    "print(\"문서별 쿼리 유사도:\", sims)\n",
    "\n",
    "# 2. LangChain 구성 요소 불러오기\n",
    "from langchain.document_loaders import TextLoader\n",
    "from langchain.text_splitter import RecursiveCharacterTextSplitter\n",
    "from langchain.embeddings import HuggingFaceEmbeddings\n",
    "from langchain.vectorstores import FAISS\n",
    "from langchain.chains import RetrievalQA\n",
    "\n",
    "# 3. Gemini API 연결\n",
    "import os\n",
    "from dotenv import load_dotenv\n",
    "import google.generativeai as genai\n",
    "\n",
    "# .env에서 키 로드 및 설정\n",
    "load_dotenv()\n",
    "api_key = os.getenv(\"GOOGLE_API_KEY\")\n",
    "genai.configure(api_key=api_key)\n",
    "\n",
    "# 모델 인스턴스 생성\n",
    "model = genai.GenerativeModel(\"models/gemini-2.5-flash-preview-04-17\")\n",
    "\n",
    "# LangChain용 Custom LLM 래퍼 정의\n",
    "from langchain.llms.base import LLM\n",
    "from typing import Optional\n",
    "\n",
    "\n",
    "class GeminiLLM(LLM):\n",
    "    model: any\n",
    "\n",
    "    def _call(self, prompt: str, stop: Optional[list[str]] = None) -> str:\n",
    "        response = self.model.generate_content(prompt)\n",
    "        return response.text\n",
    "\n",
    "    @property\n",
    "    def _llm_type(self) -> str:\n",
    "        return \"custom-gemini\"\n",
    "\n",
    "\n",
    "llm = GeminiLLM(model=model)\n",
    "\n",
    "# 4. 문서 임베딩 및 QA 체인 구성\n",
    "loader = TextLoader(\"example_docs/sample1.txt\", encoding=\"utf-8\")\n",
    "docs = loader.load()\n",
    "splitter = RecursiveCharacterTextSplitter(chunk_size=500, chunk_overlap=50)\n",
    "split_docs = splitter.split_documents(docs)\n",
    "\n",
    "embeddings = HuggingFaceEmbeddings(model_name=\"sentence-transformers/all-MiniLM-L6-v2\")\n",
    "vectorstore = FAISS.from_documents(split_docs, embeddings)\n",
    "\n",
    "qa_chain = RetrievalQA.from_chain_type(llm=llm, retriever=vectorstore.as_retriever())\n",
    "\n",
    "# 5. 질의 실행\n",
    "response = qa_chain.run(\"이 문서에서 RAG란?\")\n",
    "print(response)"
   ]
  },
  {
   "cell_type": "code",
   "execution_count": null,
   "id": "2070cc93",
   "metadata": {},
   "outputs": [],
   "source": [
    "import google.generativeai as genai\n",
    "\n",
    "genai.configure(api_key=api_key)\n",
    "\n",
    "models = genai.list_models()\n",
    "for model in models:\n",
    "    print(model.name, model.supported_generation_methods)"
   ]
  },
  {
   "cell_type": "markdown",
   "id": "c314a0f3",
   "metadata": {},
   "source": [
    "### 1단계: 문서 벡터와 질의 벡터의 유사도 (Cosine Similarity)\n",
    "\n",
    "문서 검색에서 질의와 문서 간의 관련성은 벡터 간의 코사인 유사도로 계산됨.  \n",
    "두 벡터 $\\vec{a}, \\vec{b}$ 사이의 유사도는 다음과 같음:\n",
    "\n",
    "$$\n",
    "\\cos(\\theta) = \\frac{\\vec{a} \\cdot \\vec{b}}{\\|\\vec{a}\\| \\cdot \\|\\vec{b}\\|}\n",
    "$$\n",
    "\n",
    "- 1에 가까울수록 두 벡터의 방향이 유사\n",
    "- 벡터 방향의 유사성을 통해 관련 문서를 추정\n"
   ]
  },
  {
   "cell_type": "code",
   "execution_count": null,
   "id": "5b6784b2",
   "metadata": {},
   "outputs": [
    {
     "data": {
      "image/png": "[encoded data removed]",
      "text/plain": [
       "<Figure size 640x480 with 1 Axes>"
      ]
     },
     "metadata": {},
     "output_type": "display_data"
    },
    {
     "name": "stdout",
     "output_type": "stream",
     "text": [
      "문서별 유사도: [0.97780241 0.99990619 0.77216236]\n"
     ]
    }
   ],
   "source": [
    "import numpy as np\n",
    "import matplotlib.pyplot as plt\n",
    "from sklearn.metrics.pairwise import cosine_similarity\n",
    "\n",
    "doc_vectors = np.array([[1.0, 0.5], [0.9, 0.7], [0.2, 0.95]])\n",
    "query_vector = np.array([[1.0, 0.8]])\n",
    "sims = cosine_similarity(query_vector, doc_vectors)[0]\n",
    "\n",
    "fig, ax = plt.subplots()\n",
    "colors = [\"r\", \"g\", \"b\"]\n",
    "for i, vec in enumerate(doc_vectors):\n",
    "    ax.quiver(\n",
    "        0,\n",
    "        0,\n",
    "        vec[0],\n",
    "        vec[1],\n",
    "        angles=\"xy\",\n",
    "        scale_units=\"xy\",\n",
    "        scale=1,\n",
    "        color=colors[i],\n",
    "        label=f\"doc{i+1}\",\n",
    "    )\n",
    "ax.quiver(\n",
    "    0,\n",
    "    0,\n",
    "    query_vector[0][0],\n",
    "    query_vector[0][1],\n",
    "    angles=\"xy\",\n",
    "    scale_units=\"xy\",\n",
    "    scale=1,\n",
    "    color=\"pink\",\n",
    "    label=\"query\",\n",
    ")\n",
    "ax.set_xlim(0, 1.2)\n",
    "ax.set_ylim(0, 1.2)\n",
    "ax.set_aspect(\"equal\")\n",
    "ax.grid()\n",
    "ax.legend()\n",
    "plt.title(\"문서 vs 질의 벡터 (cosine similarity)\")\n",
    "plt.show()\n",
    "\n",
    "print(\"문서별 유사도:\", sims)"
   ]
  },
  {
   "cell_type": "markdown",
   "id": "56b26140",
   "metadata": {},
   "source": [
    "### 2단계: LangChain 기반 문서 전처리 및 벡터 저장\n",
    "\n",
    "- `TextLoader`: 문서 로딩\n",
    "- `RecursiveCharacterTextSplitter`: 문서 분할\n",
    "- `HuggingFaceEmbeddings`: 벡터화\n",
    "- `FAISS`: 벡터 검색 인덱스 구성\n",
    "\n",
    "문서를 일정 단위로 나누고 각 조각을 고차원 벡터로 임베딩 후 검색용 저장소에 저장함.\n"
   ]
  },
  {
   "cell_type": "code",
   "execution_count": null,
   "id": "1d2c9b5c",
   "metadata": {},
   "outputs": [
    {
     "name": "stdout",
     "output_type": "stream",
     "text": [
      "원본 문서 수: 1\n",
      "분할된 문장 수: 3\n",
      "[0] 1. rag는 llm 성능 보완 = 할루시네이션커버, 도메인 지식 인젝션 등 면에서 짱짱맨 기술인거임.\n",
      "[1] 2. 지금 문장은 의도된 쿼리와 아무 연관이 없음\n",
      "[2] 3. 이것도 아무 연관이 없는데 대답을 어떻게 하는지 볼거임. 배고픔\n",
      "벡터 저장소 내 벡터 수: 3\n"
     ]
    }
   ],
   "source": [
    "from langchain.document_loaders import TextLoader\n",
    "from langchain.embeddings import HuggingFaceEmbeddings\n",
    "from langchain.vectorstores import FAISS\n",
    "from langchain.schema import Document\n",
    "\n",
    "# 문서 로드\n",
    "loader = TextLoader(\"example_docs/sample1.txt\", encoding=\"utf-8\")\n",
    "docs = loader.load()\n",
    "print(f\"원본 문서 수: {len(docs)}\")\n",
    "\n",
    "# 문장 단위로 직접 분리 (줄 단위로 나누고 공백 제거)\n",
    "raw_text = docs[0].page_content\n",
    "sentences = [s.strip() for s in raw_text.split(\"\\n\") if s.strip()]\n",
    "\n",
    "# LangChain Document 형식으로 변환\n",
    "split_docs = [Document(page_content=sent) for sent in sentences]\n",
    "print(f\"분할된 문장 수: {len(split_docs)}\")\n",
    "for i, doc in enumerate(split_docs):\n",
    "    print(f\"[{i}] {doc.page_content}\")\n",
    "\n",
    "# 임베딩 및 FAISS 저장소 구성\n",
    "embeddings = HuggingFaceEmbeddings(model_name=\"sentence-transformers/all-MiniLM-L6-v2\")\n",
    "vectorstore = FAISS.from_documents(split_docs, embeddings)\n",
    "print(\"벡터 저장소 내 벡터 수:\", vectorstore.index.ntotal)"
   ]
  },
  {
   "cell_type": "markdown",
   "id": "20e3a283",
   "metadata": {},
   "source": [
    "### 구조적 해석: 왜 이렇게 처리하는가?\n",
    "\n",
    "- **문장 단위 분리**: 문서 전체를 하나의 벡터로 임베딩하면, 질문에 대응할 수 없음  \n",
    "  → 세부적인 문장 단위로 분리해야 \"부분 대응\"이 가능\n",
    "\n",
    "- **임베딩**: 각 문장은 고차원 의미 벡터로 변환됨  \n",
    "  → \"RAG는 뭐야?\"라는 질문 벡터와 가장 유사한 문장이 선택됨\n",
    "\n",
    "- **FAISS 저장**: 모든 벡터를 인덱싱하여, 유사도 기반 검색이 빠르게 이뤄지도록 함  \n",
    "  → 수천~수만 개 문서도 빠르게 검색 가능\n",
    "\n",
    "- **주의사항**: 문장이 너무 길거나 짧으면 임베딩 특성이 왜곡될 수 있음  \n",
    "  → 문장 길이 조절, 의미 단위 기준으로 분할 전략도 함께 고려\n"
   ]
  },
  {
   "cell_type": "markdown",
   "id": "911ac3b7",
   "metadata": {},
   "source": [
    "### 3단계: 질의(Query)를 임베딩 벡터로 변환\n",
    "\n",
    "사용자의 질문은 단순한 문자열 텍스트이므로, 문서 검색을 위해선 벡터로 변환해야 함.  \n",
    "이때 사용하는 것이 임베딩 모델이며, 동일한 모델로 문장과 질의를 임베딩해야 검색이 가능하다.\n",
    "\n",
    "현재 사용하는 임베딩 모델:\n",
    "- `sentence-transformers/all-MiniLM-L6-v2`\n",
    "- 384차원 의미 공간을 기반으로 동작\n",
    "- 쿼리를 입력하면 384차원의 벡터로 변환\n",
    "\n",
    "이 벡터는 고차원 의미 공간에서 \"문장 의미\"를 표현한 점 하나로 볼 수 있음.\n"
   ]
  },
  {
   "cell_type": "markdown",
   "id": "a0cae6b2",
   "metadata": {},
   "source": [
    "### 질의 임베딩 수학적 구조\n",
    "\n",
    "입력 쿼리: 자연어 문장 → 토크나이즈 → 벡터 시퀀스 → 평균 풀링 → 고정차원 벡터\n",
    "\n",
    "결과:  \n",
    "$$\n",
    "\\vec{q} \\in \\mathbb{R}^{384}\n",
    "$$\n",
    "\n",
    "이 벡터는 문장 전체의 의미를 평균화하여 고차원 공간 상 하나의 점으로 표현한 것이다.\n"
   ]
  },
  {
   "cell_type": "code",
   "execution_count": null,
   "id": "bc769352",
   "metadata": {},
   "outputs": [
    {
     "name": "stdout",
     "output_type": "stream",
     "text": [
      "질의 임베딩 벡터 차원: 384\n",
      "질의 임베딩 벡터 (앞 10차원): [-0.10312720388174057, 0.07886252552270889, 0.036757685244083405, -0.016478078439831734, -0.09243414551019669, -0.003082184586673975, 0.12861108779907227, 0.027548741549253464, -0.039407406002283096, -0.009369582869112492]\n"
     ]
    }
   ],
   "source": [
    "# 질의 문장\n",
    "query = \"RAG란 무엇인가?\"\n",
    "\n",
    "# 질의를 임베딩 벡터로 변환\n",
    "query_vector = embeddings.embed_query(query)\n",
    "\n",
    "# 결과 확인\n",
    "print(\"질의 임베딩 벡터 차원:\", len(query_vector))\n",
    "print(\"질의 임베딩 벡터 (앞 10차원):\", query_vector[:10])"
   ]
  },
  {
   "cell_type": "markdown",
   "id": "6e558e79",
   "metadata": {},
   "source": [
    "출력 예시:\n",
    "- 차원: 384\n",
    "- 앞 10차원: [-0.1031, 0.0788, 0.0367, -0.0164, -0.0924, -0.0030, 0.1286, 0.0275, -0.0394, -0.0093]\n",
    "\n",
    "해석:\n",
    "- 이 벡터는 \"RAG란 무엇인가?\"라는 문장이 의미적으로 어떤 위치에 있는지를 표현한 고차원 점\n",
    "- 개별 수치는 특정 차원의 의미 축에 대한 위치를 나타냄 (예: 긍정도, 전문성, 추상성 등)\n",
    "- 이 벡터와 문서 벡터 간의 cosine similarity로 의미적 관련성을 비교하게 됨\n"
   ]
  },
  {
   "cell_type": "markdown",
   "id": "67469211",
   "metadata": {},
   "source": [
    "### 4단계: 질의 벡터와 문서 벡터 간 유사도 계산\n",
    "\n",
    "이 단계에서는 임베딩된 질의 벡터와 각 문서 벡터 간의 유사도를 계산한다.\n",
    "\n",
    "- 문서 벡터는 이전 단계에서 문장 단위로 FAISS에 저장됨\n",
    "- 질의 벡터와 문서 벡터 간 유사도는 cosine similarity를 통해 계산\n",
    "- 값이 클수록 두 벡터가 같은 방향, 즉 같은 의미를 가진다고 판단됨\n",
    "\n",
    "이 유사도 값은 Retrieval 단계에서 어떤 문서를 선택할지를 결정하는 핵심 기준이 됨\n"
   ]
  },
  {
   "cell_type": "markdown",
   "id": "71f9d7a9",
   "metadata": {},
   "source": [
    "### Cosine Similarity 수식\n",
    "\n",
    "질의 벡터 $\\vec{q}$와 문서 벡터 $\\vec{d_i}$ 사이의 cosine 유사도는 다음과 같다:\n",
    "\n",
    "$$\n",
    "\\text{sim}(\\vec{q}, \\vec{d_i}) = \\frac{\\vec{q} \\cdot \\vec{d_i}}{\\|\\vec{q}\\| \\cdot \\|\\vec{d_i}\\|}\n",
    "$$\n",
    "\n",
    "- 내적 $\\vec{q} \\cdot \\vec{d_i}$는 두 벡터의 방향 정렬 정도\n",
    "- 분모는 각 벡터의 길이 (L2 정규화)\n",
    "- 결과는 -1 ~ 1 사이의 값이며, 1에 가까울수록 유사한 방향\n",
    "\n",
    "이 값을 기준으로 유사한 문서를 top-k 개수만큼 선택함\n"
   ]
  },
  {
   "cell_type": "code",
   "execution_count": null,
   "id": "8fde6e67",
   "metadata": {},
   "outputs": [
    {
     "name": "stdout",
     "output_type": "stream",
     "text": [
      "문서별 쿼리 유사도: [0.5292 0.4025 0.4812]\n",
      "[0] 유사도=0.5292 → 1. rag는 llm 성능 보완 = 할루시네이션커버, 도메인 지식 인젝션 등 면에서 짱짱맨 기술인거임.\n",
      "[2] 유사도=0.4812 → 3. 이것도 아무 연관이 없는데 대답을 어떻게 하는지 볼거임. 배고픔\n",
      "[1] 유사도=0.4025 → 2. 지금 문장은 의도된 쿼리와 아무 연관이 없음\n"
     ]
    }
   ],
   "source": [
    "from sklearn.metrics.pairwise import cosine_similarity\n",
    "\n",
    "# 문서 벡터 집합 구성\n",
    "doc_vectors = [embeddings.embed_query(doc.page_content) for doc in split_docs]\n",
    "\n",
    "# cosine similarity 계산\n",
    "import numpy as np\n",
    "\n",
    "similarities = cosine_similarity([query_vector], doc_vectors)[0]\n",
    "\n",
    "# 상위 k개 문서 인덱스 추출\n",
    "top_k = 3\n",
    "top_indices = np.argsort(similarities)[::-1][:top_k]\n",
    "\n",
    "# 결과 출력\n",
    "print(\"문서별 쿼리 유사도:\", np.round(similarities, 4))\n",
    "for i in top_indices:\n",
    "    print(f\"[{i}] 유사도={similarities[i]:.4f} → {split_docs[i].page_content}\")"
   ]
  },
  {
   "cell_type": "markdown",
   "id": "7762581f",
   "metadata": {},
   "source": [
    "해석:\n",
    "- 벡터 임베딩의 특성상 문장 구조나 일반적인 표현이 유사하면 높은 유사도로 나올 수 있음\n",
    "- cosine similarity는 의미적 방향만 측정하므로 세밀한 의미 분리에는 한계가 있음"
   ]
  },
  {
   "cell_type": "markdown",
   "id": "77ea6f92",
   "metadata": {},
   "source": [
    "### 5단계: 질의-문서 간 유사도 분포 시각화\n",
    "\n",
    "이 단계에서는 이전에 계산한 cosine similarity 값들을 시각화함으로써:\n",
    "\n",
    "- 어떤 문장이 쿼리와 가장 관련이 높은지\n",
    "- top-k 문장이 전체 문서 중 어떤 위치에 분포되어 있는지\n",
    "- 임베딩된 의미 공간에서 문서들이 얼마나 밀집되어 있는지\n",
    "\n",
    "를 직관적으로 파악할 수 있다.\n",
    "\n",
    "이는 검색 정확도 향상, 벡터 품질 진단, 문장 분할 전략 평가 등에 활용됨.\n"
   ]
  },
  {
   "cell_type": "code",
   "execution_count": null,
   "id": "cb068093",
   "metadata": {},
   "outputs": [
    {
     "data": {
      "image/png": "[encoded data removed]",
      "text/plain": [
       "<Figure size 1000x400 with 1 Axes>"
      ]
     },
     "metadata": {},
     "output_type": "display_data"
    }
   ],
   "source": [
    "import matplotlib.pyplot as plt\n",
    "\n",
    "# 전체 유사도 막대그래프\n",
    "plt.figure(figsize=(10, 4))\n",
    "plt.bar(range(len(similarities)), similarities, color=\"lightgray\", label=\"전체 문서\")\n",
    "plt.bar(\n",
    "    top_indices,\n",
    "    [similarities[i] for i in top_indices],\n",
    "    color=\"steelblue\",\n",
    "    label=\"Top-k 문서\",\n",
    ")\n",
    "plt.xlabel(\"문서 인덱스\")\n",
    "plt.ylabel(\"Cosine Similarity\")\n",
    "plt.title(\"질의와 각 문서 간 유사도 분포\")\n",
    "plt.xticks(range(len(similarities)))\n",
    "plt.legend()\n",
    "plt.grid(True)\n",
    "plt.show()"
   ]
  },
  {
   "cell_type": "markdown",
   "id": "bc2800ba",
   "metadata": {},
   "source": [
    "#### 해석 예시\n",
    "\n",
    "- 전체 유사도 값이 0.95 이상에 밀집되어 있으면 → 문서 임베딩 간 의미적 구분이 부족할 수 있음\n",
    "- top-k 문서만 유사도가 뚜렷하게 높으면 → 검색 품질이 양호함\n",
    "- 유사도가 전체적으로 낮으면 → 질의 벡터가 문서 임베딩 공간과 거리가 멀 수 있음\n",
    "- top-1이 지나치게 0.99 이상이면 → 임베딩 모델이 특정 문장에 과도하게 반응한 것일 수도 있음 (편향)\n",
    "\n",
    "이러한 분석을 통해 문서 분할 전략, 임베딩 모델 선택, 검색 기준(top-k 또는 threshold) 설정 등을 결정할 수 있다.\n"
   ]
  },
  {
   "cell_type": "markdown",
   "id": "c04569c9",
   "metadata": {},
   "source": [
    "### 6단계: 선택된 문서가 LLM에 어떻게 전달되는가?\n",
    "\n",
    "문서 검색 결과가 끝이 아니라, 선택된 문서 조각들이 **LLM에 prompt 형태로 전달**되어야 최종 응답이 생성된다.\n",
    "\n",
    "LangChain의 `RetrievalQA` 체인은 다음과 같은 내부 흐름으로 작동한다:\n",
    "\n",
    "1. 사용자 질의 → 임베딩 → Top-k 문서 검색\n",
    "2. 검색된 문서들을 하나의 context로 합침\n",
    "3. 다음과 같은 형태의 prompt를 생성:  \n",
    "\n",
    "Context:\n",
    "문서1 내용\n",
    "문서2 내용\n",
    "...\n",
    "\n",
    "Question:\n",
    "사용자 질문  \n",
    "\n",
    "\n",
    "4. 위 prompt가 LLM(Gemini)에 전달됨\n",
    "5. LLM은 context + question을 조건으로 언어 생성\n",
    "\n",
    "→ 이는 **조건부 언어 생성 모델**로서의 LLM 구조에 기반한 동작임\n"
   ]
  },
  {
   "cell_type": "code",
   "execution_count": null,
   "id": "ae4d4d93",
   "metadata": {},
   "outputs": [
    {
     "name": "stdout",
     "output_type": "stream",
     "text": [
      "🔹 생성된 응답:\n",
      " RAG는 LLM 성능을 보완하는 기술로, 할루시네이션을 커버하고 도메인 지식을 주입하는 등의 면에서 유용한 기술입니다.\n",
      "\n",
      "🔹 응답과정 중 리트리벌에 사용(고려)된 문서 조각 리스트:\n",
      "[0] 1. rag는 llm 성능 보완 = 할루시네이션커버, 도메인 지식 인젝션 등 면에서 짱짱맨 기술인거임.\n",
      "[1] 3. 이것도 아무 연관이 없는데 대답을 어떻게 하는지 볼거임. 배고픔\n",
      "[2] 2. 지금 문장은 의도된 쿼리와 아무 연관이 없음\n"
     ]
    }
   ],
   "source": [
    "# RetrievalQA 실행\n",
    "query = \"RAG란 무엇인가?\"\n",
    "result = qa_chain(query)\n",
    "\n",
    "# 응답 확인\n",
    "print(\"🔹 생성된 응답:\\n\", result[\"result\"])\n",
    "\n",
    "# 사용된 문서 조각 확인\n",
    "print(\"\\n🔹 응답과정 중 리트리벌에 사용(고려)된 문서 조각 리스트:\")\n",
    "for i, doc in enumerate(result[\"source_documents\"]):\n",
    "    print(f\"[{i}] {doc.page_content}\")"
   ]
  },
  {
   "cell_type": "markdown",
   "id": "fd1761a2",
   "metadata": {},
   "source": [
    "#### LangChain PromptTemplate 내부 구조\n",
    "\n",
    "실제로 LangChain은 다음과 같은 템플릿 구조를 사용:\n",
    "\n",
    "---\n",
    "\n",
    "{context}\n",
    "\n",
    "Question: {query}  \n",
    "Answer:\n",
    "\n",
    "---\n",
    "\n",
    "여기서 context는 Top-k 문서가 연결된 문자열이며, LLM은 이를 단일 문맥으로 처리함.  \n",
    "LangChain은 내부적으로 `StuffDocumentsChain`을 통해 이 prompt를 구성함.\n",
    "\n",
    "- context 양이 많으면 → 토큰 초과 위험\n",
    "- context가 부정확하면 → 할루시네이션 가능성 증가\n",
    "- query와 context의 의미 일치가 중요\n",
    "\n",
    "LLM은 이 prompt 전체를 보고 조건부 확률 분포 $P(\\text{답변} \\mid \\text{문서들}, \\text{질문})$ 에 따라 응답을 생성함\n"
   ]
  },
  {
   "cell_type": "markdown",
   "id": "027fe213",
   "metadata": {},
   "source": [
    "### 7단계: Retrieval 문맥 포함 여부에 따른 응답 비교\n",
    "\n",
    "RAG의 핵심은 \"문서를 검색하여 LLM에 context로 제공하면, 그만큼 정답률이 높아지는가?\"이다.\n",
    "\n",
    "이 실험에서는 다음 두 조건을 비교함:\n",
    "\n",
    "1. Retrieval 포함 (RAG) → 문서 context + 질문 → 응답\n",
    "2. Retrieval 없음 (non-RAG) → 질문만 → 응답\n",
    "\n",
    "이를 통해 다음을 검증할 수 있다:\n",
    "\n",
    "- 문서 context가 없으면 LLM이 어떻게 추론하는가?\n",
    "- 문서 context가 있을 때 얼마나 정답에 가까운가?\n",
    "- 응답이 실제 문서를 반영하는가 (traceability)\n",
    "\n",
    "실험 대상 질문 예: `\"RAG란 무엇인가?\"`\n"
   ]
  },
  {
   "cell_type": "code",
   "execution_count": null,
   "id": "9afc0c21",
   "metadata": {},
   "outputs": [
    {
     "name": "stdout",
     "output_type": "stream",
     "text": [
      "✅ RAG 응답:\n",
      " Helpful Answer: RAG는 LLM 성능을 보완하는 기술로, 할루시네이션을 커버하고 도메인 지식을 주입하는 데 유용한 기술입니다.\n",
      "\n",
      "🔹 사용된 문서 조각:\n",
      "[0] 1. rag는 llm 성능 보완 = 할루시네이션커버, 도메인 지식 인젝션 등 면에서 짱짱맨 기술인거임.\n",
      "[1] 3. 이것도 아무 연관이 없는데 대답을 어떻게 하는지 볼거임. 배고픔\n",
      "[2] 2. 지금 문장은 의도된 쿼리와 아무 연관이 없음\n"
     ]
    },
    {
     "name": "stderr",
     "output_type": "stream",
     "text": [
      "C:\\Users\\Valentino\\AppData\\Local\\Temp\\ipykernel_28000\\2681134297.py:14: LangChainDeprecationWarning: The method `BaseLLM.__call__` was deprecated in langchain-core 0.1.7 and will be removed in 1.0. Use :meth:`~invoke` instead.\n",
      "  non_rag_result = llm(query)\n"
     ]
    },
    {
     "name": "stdout",
     "output_type": "stream",
     "text": [
      "\n",
      "❌ Non-RAG 응답:\n",
      " RAG는 **Retrieval Augmented Generation**의 약자입니다. 우리말로는 **검색 증강 생성**이라고 번역할 수 있습니다.\n",
      "\n",
      "간단히 말해, RAG는 **거대 언어 모델(LLM, Large Language Model)**의 답변 정확성과 신뢰성을 높이기 위해, **외부의 신뢰할 수 있는 지식 소스**에서 관련 정보를 **검색(Retrieval)**해 와서, 이 정보를 기반으로 답변을 **생성(Generation)**하도록 **보강(Augmented)**하는 기술입니다.\n",
      "\n",
      "**왜 RAG가 필요할까요?**\n",
      "\n",
      "거대 언어 모델(LLM)은 방대한 데이터를 학습했지만 다음과 같은 한계가 있습니다.\n",
      "\n",
      "1.  **최신 정보 부족:** 학습 시점에 제한이 있어 최신 정보나 사건에 대해 알지 못할 수 있습니다.\n",
      "2.  **환각(Hallucination):** 사실이 아닌 내용을 마치 사실인 것처럼 지어내서 답변할 수 있습니다.\n",
      "3.  **특정 도메인 지식 부족:** 특정 분야(예: 의료, 법률, 사내 문서)의 전문적인 정보에 대해서는 정확한 답변을 하기 어렵습니다.\n",
      "4.  **출처 불분명:** 답변의 근거가 무엇인지 알기 어렵습니다.\n",
      "\n",
      "RAG는 이러한 LLM의 한계를 보완하기 위해 등장했습니다.\n",
      "\n",
      "**RAG의 작동 방식:**\n",
      "\n",
      "일반적으로 다음과 같은 단계를 거칩니다.\n",
      "\n",
      "1.  **사용자 질문:** 사용자가 LLM에게 질문합니다.\n",
      "2.  **정보 검색 (Retrieval):** RAG 시스템이 사용자의 질문과 관련된 내용을 **미리 구축된 외부 지식 베이스** (예: 문서 데이터베이스, 웹 페이지 인덱스 등)에서 검색합니다. 이 단계에서는 질문의 의도를 파악하고 가장 관련성이 높은 문서나 정보 조각(청크)을 찾아냅니다.\n",
      "3.  **정보 보강 (Augmentation):** 검색된 관련 정보 조각들은 사용자의 원래 질문과 함께 LLM에게 전달됩니다. 마치 \"이 정보를 참고해서 답변해 줘\"라고 가이드하는 것과 같습니다.\n",
      "4.  **답변 생성 (Generation):** LLM은 전달받은 검색 정보(맥락 정보)를 참고하여 답변을 생성합니다. 이 과정에서 LLM은 자신의 기존 지식과 함께 검색된 외부 정보를 활용하여 더 정확하고 신뢰할 수 있는 답변을 만듭니다.\n",
      "\n",
      "**RAG의 장점:**\n",
      "\n",
      "*   **정확성 향상:** 최신 또는 특정 도메인의 정확한 정보를 기반으로 답변하므로 환각을 줄이고 사실 기반의 답변을 제공합니다.\n",
      "*   **최신 정보 반영:** 지식 베이스만 업데이트하면 되므로, LLM 자체를 재학습시킬 필요 없이 최신 정보를 반영할 수 있습니다.\n",
      "*   **신뢰성 및 투명성:** 답변의 근거가 된 외부 정보를 함께 제시할 수 있어 답변의 신뢰도를 높이고 왜 그렇게 답변했는지 파악하기 용이합니다.\n",
      "*   **비용 효율성:** 새로운 정보가 추가될 때마다 모델 전체를 재학습시키는 것보다 훨씬 비용 효율적입니다.\n",
      "\n",
      "**요약:**\n",
      "\n",
      "RAG는 LLM이 외부에서 관련 정보를 찾아와 이를 기반으로 답변을 생성하도록 돕는 기술로, LLM의 정확성, 신뢰성, 최신 정보 반영 능력을 크게 향상시키는 효과적인 방법입니다.\n"
     ]
    }
   ],
   "source": [
    "# (1) RAG 방식: 문서 포함 (invoke 사용)\n",
    "query = \"RAG란 무엇인가?\"\n",
    "rag_result = qa_chain.invoke(query)\n",
    "\n",
    "# 응답 출력 \n",
    "print(\"✅ RAG 응답:\\n\", rag_result[\"result\"])\n",
    "\n",
    "# 사용된 문서 조각 출력\n",
    "print(\"\\n🔹 사용된 문서 조각:\")\n",
    "for i, doc in enumerate(rag_result[\"source_documents\"]):\n",
    "    print(f\"[{i}] {doc.page_content}\")\n",
    "\n",
    "# (2) Non-RAG 방식: context 없이 직접 질의\n",
    "non_rag_result = llm(query)\n",
    "print(\"\\n❌ Non-RAG 응답:\\n\", non_rag_result)"
   ]
  },
  {
   "cell_type": "markdown",
   "id": "ecbcf706",
   "metadata": {},
   "source": [
    "#### 예시 응답 비교\n",
    "\n",
    "✅ RAG 응답:  \n",
    "→ \"이 문서에서 RAG는 LLM 성능 보완 기술로, 할루시네이션 방지 및 도메인 지식 주입 측면에서 효과적이라고 설명합니다.\"\n",
    "\n",
    "❌ Non-RAG 응답:  \n",
    "→ \"RAG는 Retrieval-Augmented Generation의 약자로, 검색 기반 생성 기법을 말합니다. 일반적으로...\"\n",
    "\n",
    "#### 해석\n",
    "\n",
    "- ✅ RAG 응답은 **문서에 실제로 포함된 표현**을 기반으로 응답을 생성함\n",
    "- ❌ Non-RAG 응답은 **문서에 없는 내용**을 일반 지식으로 생성함  \n",
    "  → **내용이 사실일 수는 있지만, 해당 문서(예를 들어, 직접 업로드 할 수 없고, 보안이슈를 끼고 있는 프로젝트, 비즈니스, 노하우 환경)와는 무관한 정보**\n",
    "\n",
    "→ 이는 **문서 기반 응답의 traceability(근거 추적 가능성)**과  \n",
    "   **응답 정당화(why this answer?)** 측면에서 RAG 구조가 훨씬 더 신뢰 가능하다는 것을 보여줌\n"
   ]
  },
  {
   "cell_type": "markdown",
   "id": "48a64e44",
   "metadata": {},
   "source": [
    "### 핵심 개념 요약\n",
    "\n",
    "- Retrieval-Augmented Generation(RAG)은 외부 문서를 검색하여 LLM의 응답 생성을 보완하는 구조\n",
    "- 구성 절차:\n",
    "  1. 문서를 임베딩 벡터로 변환\n",
    "  2. 질의를 동일한 임베딩 공간의 벡터로 변환\n",
    "  3. 문서들과 유사도를 계산하여 top-k 문서 검색\n",
    "  4. 선택된 문서를 context로 삽입한 prompt 생성\n",
    "  5. context + 질문 → LLM 응답 생성\n",
    "\n",
    "### 주요 연산 및 구성 요소\n",
    "\n",
    "- 임베딩 모델: sentence-transformers/all-MiniLM-L6-v2\n",
    "- 유사도 계산: cosine similarity\n",
    "- 벡터 검색 인덱스: FAISS\n",
    "- 응답 생성 LLM: Gemini API + LangChain LLM 래퍼\n",
    "\n",
    "### 실험 요약\n",
    "\n",
    "- 문장을 단위로 나눈 문서에 대해 질의를 수행하고 관련 문서를 검색함\n",
    "- 문서 기반 응답과 문서 없이 생성된 일반 응답을 비교하여, 근거 기반 응답(traceable response)의 효과를 확인함"
   ]
  }
 ],
 "metadata": {
  "kernelspec": {
   "display_name": "3.11.9",
   "language": "python",
   "name": "python3"
  },
  "language_info": {
   "codemirror_mode": {
    "name": "ipython",
    "version": 3
   },
   "file_extension": ".py",
   "mimetype": "text/x-python",
   "name": "python",
   "nbconvert_exporter": "python",
   "pygments_lexer": "ipython3",
   "version": "3.11.9"
  }
 },
 "nbformat": 4,
 "nbformat_minor": 5
}
